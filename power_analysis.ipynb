{
  "nbformat": 4,
  "nbformat_minor": 0,
  "metadata": {
    "colab": {
      "provenance": []
    },
    "kernelspec": {
      "name": "python3",
      "display_name": "Python 3"
    },
    "language_info": {
      "name": "python"
    }
  },
  "cells": [
    {
      "cell_type": "markdown",
      "source": [
        "**Power Analysis for Experimental Design**\n",
        "\n",
        "This notebook provides basic code to help determine the appropriate sample size for an experiment. Power analysis ensures that an experiment has sufficient power to detect a meaningful effect, if one exists, and can assist in using resources efficiently.\n",
        "\n",
        "In the following sections, we:\n",
        "\n",
        "* Estimate effect size\n",
        "* Determine the sample size required for a desired power (by default, 0.8)\n",
        "* Visualize power across a range of sample sizes\n",
        "* Calculate the minimum detectable effect size for a certain sample size"
      ],
      "metadata": {
        "id": "1ylRcERomM1J"
      }
    },
    {
      "cell_type": "code",
      "execution_count": 1,
      "metadata": {
        "id": "QU6fFnjiYYEq"
      },
      "outputs": [],
      "source": [
        "!pip install -q pingouin statsmodels matplotlib"
      ]
    },
    {
      "cell_type": "code",
      "source": [
        "import numpy as np\n",
        "import pingouin as pg\n",
        "import matplotlib.pyplot as plt\n",
        "from statsmodels.stats.power import TTestIndPower"
      ],
      "metadata": {
        "id": "4Ln3AXPXYlIE"
      },
      "execution_count": 2,
      "outputs": []
    },
    {
      "cell_type": "markdown",
      "source": [
        "**Estimate Effect Size**\n",
        "\n",
        "Cohen's d represents the difference between two groups' means in units of standard deviation. Typically, d = 0.2 is a small effect size, 0.5 is medium, and 0.8 is a large effect size."
      ],
      "metadata": {
        "id": "kh6gx8Qld_BQ"
      }
    },
    {
      "cell_type": "code",
      "source": [
        "mean1 = float(input(\"Enter the mean for group 1: \"))\n",
        "std1 = float(input(\"Enter the standard deviation for group 1: \"))\n",
        "n1 = int(input(\"Enter the sample size for group 1: \"))\n",
        "\n",
        "mean2 = float(input(\"Enter the mean for group 2: \"))\n",
        "std2 = float(input(\"Enter the standard deviation for group 2: \"))\n",
        "n2 = int(input(\"Enter the sample size for group 2: \"))"
      ],
      "metadata": {
        "colab": {
          "base_uri": "https://localhost:8080/"
        },
        "id": "2sTqgw5KeNuE",
        "outputId": "002a6c2e-278a-4a5d-e55e-db569f34b357"
      },
      "execution_count": 3,
      "outputs": [
        {
          "name": "stdout",
          "output_type": "stream",
          "text": [
            "Enter the mean for group 1: 2\n",
            "Enter the standard deviation for group 1: 1\n",
            "Enter the sample size for group 1: 100\n",
            "Enter the mean for group 2: 1.5\n",
            "Enter the standard deviation for group 2: 1\n",
            "Enter the sample size for group 2: 100\n"
          ]
        }
      ]
    },
    {
      "cell_type": "code",
      "source": [
        "# Generate synthetic datasets with random distributions\n",
        "group1 = np.random.normal(mean1, std1, n1)\n",
        "group2 = np.random.normal(mean2, std2, n2)\n",
        "\n",
        "# Calculate the effect size\n",
        "cohen_d = pg.compute_effsize(group1, group2, eftype='cohen')\n",
        "\n",
        "print(f\"Cohen's d: {cohen_d}\")"
      ],
      "metadata": {
        "colab": {
          "base_uri": "https://localhost:8080/"
        },
        "id": "2QSiNloZfy02",
        "outputId": "0db847e4-a40c-440e-9926-b17895c09337"
      },
      "execution_count": 5,
      "outputs": [
        {
          "output_type": "stream",
          "name": "stdout",
          "text": [
            "Cohen's d: 0.5674722058772257\n"
          ]
        }
      ]
    },
    {
      "cell_type": "markdown",
      "source": [
        "**Determine Sample Size**\n",
        "\n",
        "To determine the necessary sample size, you need to set the alpha (AKA, significance) level and desired power.\n",
        "\n",
        "The significance level represents the probability of falsely concluding that there is an effect when there is none--typically set at 0.05.\n",
        "\n",
        "Power represents the probability of correctly detecting a true effect if one exists--typically set at 0.8."
      ],
      "metadata": {
        "id": "5LCVP-PBhQzT"
      }
    },
    {
      "cell_type": "code",
      "source": [
        "# Enter the effect size\n",
        "effect_size = float(input(\"Enter the effect size: \"))\n",
        "\n",
        "# Initialize the power analysis object\n",
        "analysis = TTestIndPower()\n",
        "\n",
        "# Calculate the sample size needed for a two-sample t-test\n",
        "sample_size = analysis.solve_power(effect_size=effect_size, power=0.8, alpha=0.05, ratio=1, alternative='two-sided')\n",
        "\n",
        "print(f\"Sample size needed: {np.ceil(sample_size)}\") # Rounding up to nearest whole number"
      ],
      "metadata": {
        "colab": {
          "base_uri": "https://localhost:8080/"
        },
        "id": "ACtX32joaJxd",
        "outputId": "fc98b458-74b1-434a-84fe-92996945c1e0"
      },
      "execution_count": 6,
      "outputs": [
        {
          "output_type": "stream",
          "name": "stdout",
          "text": [
            "Enter the effect size: 0.5\n",
            "Sample size needed: 64.0\n"
          ]
        }
      ]
    },
    {
      "cell_type": "markdown",
      "source": [
        "**Visualize Power for Different Sample Sizes**"
      ],
      "metadata": {
        "id": "VikK7vXHiwmX"
      }
    },
    {
      "cell_type": "code",
      "source": [
        "# Set the range of sample sizes to visualize\n",
        "sample_min = 3\n",
        "sample_max = 100\n",
        "\n",
        "# Plot a power curve for the range of sample sizes\n",
        "sample_sizes = np.arange(sample_min, sample_max + 1)\n",
        "analysis = TTestIndPower()\n",
        "\n",
        "powers = analysis.power(effect_size=effect_size, nobs1=sample_sizes, alpha=0.05, ratio=1.0, alternative='two-sided')\n",
        "\n",
        "plt.figure(figsize=(10, 6))\n",
        "plt.plot(sample_sizes, powers)\n",
        "plt.title('Power Curve')\n",
        "plt.xlabel('Sample Size')\n",
        "plt.ylabel('Power')\n",
        "plt.axhline(y=0.8, color='r', linestyle='--')\n",
        "plt.show()"
      ],
      "metadata": {
        "colab": {
          "base_uri": "https://localhost:8080/",
          "height": 564
        },
        "id": "Ulou_grgcqXb",
        "outputId": "64016e7e-3671-46dc-a518-31458a637885"
      },
      "execution_count": 7,
      "outputs": [
        {
          "output_type": "display_data",
          "data": {
            "text/plain": [
              "<Figure size 1000x600 with 1 Axes>"
            ],
            "image/png": "[encoded data removed]"
          },
          "metadata": {}
        }
      ]
    },
    {
      "cell_type": "markdown",
      "source": [
        "**Sensitivity Analysis**\n",
        "\n",
        "Determine the minimum detectable effect size for a given sample size, assuming that the data are normally distributed and observations are independent."
      ],
      "metadata": {
        "id": "m-x-FfRAj7il"
      }
    },
    {
      "cell_type": "code",
      "source": [
        "# Calculate the minimum detectable effect size\n",
        "sample_size = float(input(\"Enter the sample size: \"))\n",
        "\n",
        "analysis = TTestIndPower()\n",
        "effect_size = analysis.solve_power(effect_size=None, nobs1=sample_size, alpha=0.05, power=0.8, ratio=1, alternative='two-sided')\n",
        "\n",
        "print(f\"Minimum detectable effect size: {effect_size}\")"
      ],
      "metadata": {
        "colab": {
          "base_uri": "https://localhost:8080/"
        },
        "id": "pgw42qvxjork",
        "outputId": "9d7bc70d-2765-4803-cb92-6e66b5528fa6"
      },
      "execution_count": 8,
      "outputs": [
        {
          "output_type": "stream",
          "name": "stdout",
          "text": [
            "Enter the sample size: 80\n",
            "Minimum detectable effect size: 0.4456842248588056\n"
          ]
        }
      ]
    }
  ]
}
