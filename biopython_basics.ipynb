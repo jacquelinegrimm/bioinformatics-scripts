{
  "nbformat": 4,
  "nbformat_minor": 0,
  "metadata": {
    "colab": {
      "provenance": []
    },
    "kernelspec": {
      "name": "python3",
      "display_name": "Python 3"
    },
    "language_info": {
      "name": "python"
    }
  },
  "cells": [
    {
      "cell_type": "code",
      "source": [
        "!pip install -q biopython"
      ],
      "metadata": {
        "id": "gxBDIcKiEWPt"
      },
      "execution_count": 1,
      "outputs": []
    },
    {
      "cell_type": "markdown",
      "source": [
        "**Accessing NCBI Databases from a Colab notebook**\n",
        "\n",
        "NCBI databases (e.g., Pubmed, GenBank) can be accessed though NCBI's data retrieval system, Entrez.\n",
        "\n",
        "When using Entrez, please observe the following guidelines:\n",
        "\n",
        "\n",
        "*   Provide your email address to NCBI\n",
        "*   Max three requests per second\n",
        "*   For >100 requests, access the system on the weekend/outside peak hours in the US"
      ],
      "metadata": {
        "id": "v7HCklSlCe7h"
      }
    },
    {
      "cell_type": "code",
      "execution_count": 2,
      "metadata": {
        "colab": {
          "base_uri": "https://localhost:8080/"
        },
        "id": "7bSXeZdNCEyq",
        "outputId": "9ce44aef-a83d-46dc-dced-ac9e95d9a17c"
      },
      "outputs": [
        {
          "name": "stdout",
          "output_type": "stream",
          "text": [
            "Enter your e-mail address: jacquelinekgrimm@gmail.com\n"
          ]
        }
      ],
      "source": [
        "from Bio import Entrez\n",
        "\n",
        "Entrez.email = input(\"Enter your e-mail address: \")"
      ]
    },
    {
      "cell_type": "code",
      "source": [
        "# Download a genome using an accession number\n",
        "from Bio import SeqIO\n",
        "\n",
        "accession = input(\"Enter an accession number: \")\n",
        "handle = Entrez.efetch(db=\"nucleotide\", id=accession, rettype=\"fasta\", retmode=\"text\")\n",
        "record = SeqIO.read(handle, \"fasta\")\n",
        "handle.close()"
      ],
      "metadata": {
        "colab": {
          "base_uri": "https://localhost:8080/"
        },
        "id": "LjEMlPxdEy-7",
        "outputId": "5451bd0b-8c0a-491e-d8ed-40873268da90"
      },
      "execution_count": 3,
      "outputs": [
        {
          "name": "stdout",
          "output_type": "stream",
          "text": [
            "Enter an accession number: CP102931\n"
          ]
        }
      ]
    },
    {
      "cell_type": "code",
      "source": [
        "# Print the first 99 bases of the genome\n",
        "first_99 = record.seq[:99]\n",
        "print(first_99)"
      ],
      "metadata": {
        "colab": {
          "base_uri": "https://localhost:8080/"
        },
        "id": "y8hEeNmgGUAV",
        "outputId": "09b65f9c-5f3b-422b-bfd3-57b6ad870818"
      },
      "execution_count": 4,
      "outputs": [
        {
          "output_type": "stream",
          "name": "stdout",
          "text": [
            "CCGATGAACTCCCGAGAATTTTCAATCGGACTGACACGCGGCACTGCCACGATGAACGGGTTGACTGCCTTTGATGTTCTTCGTTGTTCTTGGAGTGGA\n"
          ]
        }
      ]
    },
    {
      "cell_type": "code",
      "source": [
        "# Count the number of each base in the genome\n",
        "number_a = record.seq.count(\"A\")\n",
        "number_t = record.seq.count(\"T\")\n",
        "number_g = record.seq.count(\"G\")\n",
        "number_c = record.seq.count(\"C\")\n",
        "\n",
        "print(f\"A: {number_a}\")\n",
        "print(f\"T: {number_t}\")\n",
        "print(f\"G: {number_g}\")\n",
        "print(f\"C: {number_c}\")\n",
        "\n",
        "# Calculate the GC content\n",
        "gc_content = (number_g + number_c) / len(record.seq) * 100\n",
        "print(f\"GC content: {gc_content:.2f}%\")"
      ],
      "metadata": {
        "colab": {
          "base_uri": "https://localhost:8080/"
        },
        "id": "g5F0552EGrEO",
        "outputId": "cb8ca4cd-ff37-4916-e31e-45ce098ebf2d"
      },
      "execution_count": 5,
      "outputs": [
        {
          "output_type": "stream",
          "name": "stdout",
          "text": [
            "A: 1233586\n",
            "T: 1234679\n",
            "G: 2412254\n",
            "C: 2414223\n",
            "GC content: 66.16%\n"
          ]
        }
      ]
    },
    {
      "cell_type": "markdown",
      "source": [
        "**Find the Complement/Reverse Complement of a DNA sequence**\n",
        "\n",
        "To find the complement or reverse complement of a DNA string, you can create a Seq object, which has the methods \"complement()\" and \"reverse_complement()\"."
      ],
      "metadata": {
        "id": "0oAmvFoiUbcz"
      }
    },
    {
      "cell_type": "code",
      "source": [
        "from Bio.Seq import Seq\n",
        "\n",
        "# Create a Seq object\n",
        "my_seq = Seq(first_99)\n",
        "\n",
        "print(f\"DNA Sequence: {first_99}\")\n",
        "print(f\"Complement: {my_seq.complement()}\")\n",
        "print(f\"Reverse Complement: {my_seq.reverse_complement()}\")"
      ],
      "metadata": {
        "colab": {
          "base_uri": "https://localhost:8080/"
        },
        "id": "IUcALtHlU9jR",
        "outputId": "2c738314-56bd-447a-8319-40383af452fc"
      },
      "execution_count": 6,
      "outputs": [
        {
          "output_type": "stream",
          "name": "stdout",
          "text": [
            "DNA Sequence: CCGATGAACTCCCGAGAATTTTCAATCGGACTGACACGCGGCACTGCCACGATGAACGGGTTGACTGCCTTTGATGTTCTTCGTTGTTCTTGGAGTGGA\n",
            "Complement: GGCTACTTGAGGGCTCTTAAAAGTTAGCCTGACTGTGCGCCGTGACGGTGCTACTTGCCCAACTGACGGAAACTACAAGAAGCAACAAGAACCTCACCT\n",
            "Reverse Complement: TCCACTCCAAGAACAACGAAGAACATCAAAGGCAGTCAACCCGTTCATCGTGGCAGTGCCGCGTGTCAGTCCGATTGAAAATTCTCGGGAGTTCATCGG\n"
          ]
        }
      ]
    },
    {
      "cell_type": "markdown",
      "source": [
        "**Translate a DNA or RNA sequence**\n",
        "\n",
        "You can use BioPython's translate() method to translate DNA or RNA strings:\n",
        "\n",
        "translate(sequence, table='Standard', stop_symbol='*', to_stop=False)\n",
        "\n",
        "*   sequence: the DNA/RNA string\n",
        "*   table: the codon table (see full list [here](https://www.bioinformatics.org/JaMBW/2/3/TranslationTables.html))\n",
        "*   stop_symbol: symbol indicating a terminator\n",
        "*   to_stop: if True, stops translating when it hits the first stop codon"
      ],
      "metadata": {
        "id": "9htKHj86R_ZK"
      }
    },
    {
      "cell_type": "code",
      "source": [
        "from Bio.Seq import translate\n",
        "\n",
        "print(f\"DNA Sequence: {first_99}\")\n",
        "\n",
        "translation = translate(first_99)\n",
        "print(f\"Translation: {translation}\")"
      ],
      "metadata": {
        "colab": {
          "base_uri": "https://localhost:8080/"
        },
        "id": "4oUb-57PTWXc",
        "outputId": "8983f894-860d-4f44-8397-bc9463bb44f7"
      },
      "execution_count": 7,
      "outputs": [
        {
          "output_type": "stream",
          "name": "stdout",
          "text": [
            "DNA Sequence: CCGATGAACTCCCGAGAATTTTCAATCGGACTGACACGCGGCACTGCCACGATGAACGGGTTGACTGCCTTTGATGTTCTTCGTTGTTCTTGGAGTGGA\n",
            "Translation: PMNSREFSIGLTRGTATMNGLTAFDVLRCSWSG\n"
          ]
        }
      ]
    },
    {
      "cell_type": "markdown",
      "source": [
        "**Saving a FASTA file to Google Drive**\n",
        "\n",
        "To save a FASTA file to Google Drive, you can temporarily save a version locally, mount Google Drive, and then transfer the file to the desired directory."
      ],
      "metadata": {
        "id": "0c8ojtnpOh0c"
      }
    },
    {
      "cell_type": "code",
      "source": [
        "# Temporarily save the file locally\n",
        "with open(\"genome.fasta\", \"w\") as output_handle:\n",
        "    SeqIO.write(record, output_handle, \"fasta\")"
      ],
      "metadata": {
        "id": "4qanzjZtJrEo"
      },
      "execution_count": 8,
      "outputs": []
    },
    {
      "cell_type": "code",
      "source": [
        "# Mount Google Drive\n",
        "from google.colab import drive\n",
        "drive.mount(\"/content/drive\")"
      ],
      "metadata": {
        "colab": {
          "base_uri": "https://localhost:8080/"
        },
        "id": "TNSyv4ycPf4d",
        "outputId": "19c0d0e3-6722-40d3-b30e-ccb941c02d9d"
      },
      "execution_count": null,
      "outputs": [
        {
          "output_type": "stream",
          "name": "stdout",
          "text": [
            "Mounted at /content/drive\n"
          ]
        }
      ]
    },
    {
      "cell_type": "code",
      "source": [
        "# Move the file to Google Drive\n",
        "import shutil\n",
        "\n",
        "# Specify where you'd like to save the file\n",
        "path = '/content/drive/My Drive/fasta/genome.fasta'\n",
        "\n",
        "# Move the file\n",
        "shutil.move(\"genome.fasta\", path)"
      ],
      "metadata": {
        "colab": {
          "base_uri": "https://localhost:8080/",
          "height": 35
        },
        "id": "z4ZH_RzpPlHO",
        "outputId": "c9c3dbe8-6775-4d1a-ac13-807462fc80b1"
      },
      "execution_count": 9,
      "outputs": [
        {
          "output_type": "execute_result",
          "data": {
            "text/plain": [
              "'/content/drive/My Drive/fasta/genome.fasta'"
            ],
            "application/vnd.google.colaboratory.intrinsic+json": {
              "type": "string"
            }
          },
          "metadata": {},
          "execution_count": 9
        }
      ]
    }
  ]
}